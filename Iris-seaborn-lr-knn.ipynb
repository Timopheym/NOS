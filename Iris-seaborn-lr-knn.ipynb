{
 "cells": [
  {
   "cell_type": "code",
   "execution_count": 36,
   "metadata": {
    "collapsed": true
   },
   "outputs": [],
   "source": [
    "import numpy as np\n",
    "import pandas as pd\n",
    "import matplotlib.pyplot as plt\n",
    "%matplotlib inline"
   ]
  },
  {
   "cell_type": "code",
   "execution_count": 37,
   "metadata": {
    "collapsed": false
   },
   "outputs": [],
   "source": [
    "iris = pd.read_csv('Iris.csv')"
   ]
  },
  {
   "cell_type": "code",
   "execution_count": 38,
   "metadata": {
    "collapsed": false
   },
   "outputs": [
    {
     "data": {
      "text/html": [
       "<div>\n",
       "<table border=\"1\" class=\"dataframe\">\n",
       "  <thead>\n",
       "    <tr style=\"text-align: right;\">\n",
       "      <th></th>\n",
       "      <th>Id</th>\n",
       "      <th>SepalLengthCm</th>\n",
       "      <th>SepalWidthCm</th>\n",
       "      <th>PetalLengthCm</th>\n",
       "      <th>PetalWidthCm</th>\n",
       "      <th>Species</th>\n",
       "    </tr>\n",
       "  </thead>\n",
       "  <tbody>\n",
       "    <tr>\n",
       "      <th>0</th>\n",
       "      <td>1</td>\n",
       "      <td>5.1</td>\n",
       "      <td>3.5</td>\n",
       "      <td>1.4</td>\n",
       "      <td>0.2</td>\n",
       "      <td>Iris-setosa</td>\n",
       "    </tr>\n",
       "    <tr>\n",
       "      <th>1</th>\n",
       "      <td>2</td>\n",
       "      <td>4.9</td>\n",
       "      <td>3.0</td>\n",
       "      <td>1.4</td>\n",
       "      <td>0.2</td>\n",
       "      <td>Iris-setosa</td>\n",
       "    </tr>\n",
       "    <tr>\n",
       "      <th>2</th>\n",
       "      <td>3</td>\n",
       "      <td>4.7</td>\n",
       "      <td>3.2</td>\n",
       "      <td>1.3</td>\n",
       "      <td>0.2</td>\n",
       "      <td>Iris-setosa</td>\n",
       "    </tr>\n",
       "    <tr>\n",
       "      <th>3</th>\n",
       "      <td>4</td>\n",
       "      <td>4.6</td>\n",
       "      <td>3.1</td>\n",
       "      <td>1.5</td>\n",
       "      <td>0.2</td>\n",
       "      <td>Iris-setosa</td>\n",
       "    </tr>\n",
       "    <tr>\n",
       "      <th>4</th>\n",
       "      <td>5</td>\n",
       "      <td>5.0</td>\n",
       "      <td>3.6</td>\n",
       "      <td>1.4</td>\n",
       "      <td>0.2</td>\n",
       "      <td>Iris-setosa</td>\n",
       "    </tr>\n",
       "  </tbody>\n",
       "</table>\n",
       "</div>"
      ],
      "text/plain": [
       "   Id  SepalLengthCm  SepalWidthCm  PetalLengthCm  PetalWidthCm      Species\n",
       "0   1            5.1           3.5            1.4           0.2  Iris-setosa\n",
       "1   2            4.9           3.0            1.4           0.2  Iris-setosa\n",
       "2   3            4.7           3.2            1.3           0.2  Iris-setosa\n",
       "3   4            4.6           3.1            1.5           0.2  Iris-setosa\n",
       "4   5            5.0           3.6            1.4           0.2  Iris-setosa"
      ]
     },
     "execution_count": 38,
     "metadata": {},
     "output_type": "execute_result"
    }
   ],
   "source": [
    "iris.head()\n",
    "#Первые 5 строк набора данных Iris"
   ]
  },
  {
   "cell_type": "code",
   "execution_count": null,
   "metadata": {
    "collapsed": false
   },
   "outputs": [],
   "source": [
    "iris.shape\n",
    "#В этом наборе данных 150 примеров и 6 колонок"
   ]
  },
  {
   "cell_type": "code",
   "execution_count": null,
   "metadata": {
    "collapsed": false
   },
   "outputs": [],
   "source": [
    "iris.info()\n",
    "# Для каждего примера есть все значения фитч"
   ]
  },
  {
   "cell_type": "code",
   "execution_count": null,
   "metadata": {
    "collapsed": false
   },
   "outputs": [],
   "source": [
    "iris[iris['Species'] == 'Iris-setosa'].describe()\n",
    "# Средние значения для определенного класса"
   ]
  },
  {
   "cell_type": "code",
   "execution_count": null,
   "metadata": {
    "collapsed": false
   },
   "outputs": [],
   "source": [
    "import seaborn as sns\n",
    "p = sns.PairGrid(data=iris.ix[:, 1:], hue=\"Species\", diag_sharey=False, size=2)\n",
    "p.map_upper(plt.scatter)\n",
    "p.map_lower(sns.kdeplot)\n",
    "p.map_diag(plt.hist)\n",
    "\n",
    "# Библиотека поверх matplotlib позволяет в пару строчек отобразить наши данных во всех размерностях\n",
    "# В качестве цвета исопльзуется класс"
   ]
  },
  {
   "cell_type": "markdown",
   "metadata": {},
   "source": [
    "У нас есть ширина и высота для Чашелистика (Sepal) и Лепестка (Petal).  \n",
    "Если мы умножим ширины на высоты мы получим площадь в кв. см.   \n",
    "Поможет ли нам это?"
   ]
  },
  {
   "cell_type": "code",
   "execution_count": null,
   "metadata": {
    "collapsed": true
   },
   "outputs": [],
   "source": [
    "iris['Sepal_Area'] = iris['SepalLengthCm'] * iris['SepalWidthCm']\n",
    "iris['Petal_Area'] = iris['PetalLengthCm'] * iris['PetalWidthCm']"
   ]
  },
  {
   "cell_type": "code",
   "execution_count": null,
   "metadata": {
    "collapsed": false
   },
   "outputs": [],
   "source": [
    "sns.lmplot('Sepal_Area', 'Petal_Area', hue='Species', fit_reg=False, data=iris, size=5)"
   ]
  },
  {
   "cell_type": "markdown",
   "metadata": {},
   "source": [
    "As we can see in the scatterplot of sepal and petal areas, the 'virginica' species tends to\n",
    "have the largest petal area and the 'setosa' species tends to have the lowest petal area. All \n",
    "three species, for the most, part have similar sizes in terms of sepal area. It is clear\n",
    "that the petal area is the defining characteristic when trying to discern the different species\n",
    "of iris.\n",
    "\n",
    "Taking the petal_area as THE defining characteristics a few steps forward, I will test \n",
    "whether I can build a predictive model with just one predictor, petal_area, and see how \n",
    "that compares with a model that uses the original four predictors. \n",
    "\n",
    "To set this classification problem up, I will first split the data into training and test sets. \n",
    "Next, I will train a model on the training data. Then, I will see how well that trained\n",
    "model does on the test data. Finally, I will present accuracy scores to show how my simpler\n",
    "model does against a model that uses all the original predictors.\n"
   ]
  },
  {
   "cell_type": "code",
   "execution_count": null,
   "metadata": {
    "collapsed": false
   },
   "outputs": [],
   "source": [
    "#Create a 80/20 split of the data between training and test sets.\n",
    "from sklearn.cross_validation import train_test_split\n",
    "iris_train, iris_test = train_test_split(iris, train_size=0.8)"
   ]
  },
  {
   "cell_type": "code",
   "execution_count": null,
   "metadata": {
    "collapsed": false
   },
   "outputs": [],
   "source": [
    "X_train = iris_train.ix[:, 1:5]\n",
    "y_train = iris_train.ix[:, 5]\n",
    "X_test = iris_test.ix[:, 1:5]\n",
    "y_test = iris_test.ix[:, 5]"
   ]
  },
  {
   "cell_type": "markdown",
   "metadata": {},
   "source": [
    "![alt text](LogReg_1.png \"Title\")"
   ]
  },
  {
   "cell_type": "markdown",
   "metadata": {},
   "source": [
    "![alt text](LogisticRegressionWindowLogisticFitChart6.png \"Title\")"
   ]
  },
  {
   "cell_type": "code",
   "execution_count": null,
   "metadata": {
    "collapsed": false
   },
   "outputs": [],
   "source": [
    "#Set up, instantiate and fit model on training set.\n",
    "from sklearn.linear_model import LogisticRegression\n",
    "log_mod = LogisticRegression(random_state=1234)\n",
    "log_mod.fit(X_train, y_train)\n"
   ]
  },
  {
   "cell_type": "code",
   "execution_count": null,
   "metadata": {
    "collapsed": true
   },
   "outputs": [],
   "source": [
    "#Predict on X_test model predictors\n",
    "y_pred = log_mod.predict(X_test)"
   ]
  },
  {
   "cell_type": "code",
   "execution_count": null,
   "metadata": {
    "collapsed": false
   },
   "outputs": [],
   "source": [
    "from sklearn import metrics\n",
    "metrics.accuracy_score(y_test, y_pred)\n",
    "\n",
    "#We get an accuracy of about 96.7% on a simple log model using our original\n",
    "#predictors. Let's try the same using my created area predictor for petal area."
   ]
  },
  {
   "cell_type": "code",
   "execution_count": null,
   "metadata": {
    "collapsed": false
   },
   "outputs": [],
   "source": [
    "area_of_petal_train = iris_train.ix[:, -1]\n",
    "area_of_petal_test = iris_test.ix[:, -1]"
   ]
  },
  {
   "cell_type": "code",
   "execution_count": null,
   "metadata": {
    "collapsed": false
   },
   "outputs": [],
   "source": [
    "area_of_petal_train_rs = area_of_petal_train.reshape(-1,1)\n",
    "petal_area_log_mod = LogisticRegression(random_state=1234)\n",
    "petal_area_log_mod.fit(area_of_petal_train_rs, y_train)"
   ]
  },
  {
   "cell_type": "code",
   "execution_count": null,
   "metadata": {
    "collapsed": true
   },
   "outputs": [],
   "source": [
    "area_of_petal_test_rs = area_of_petal_test.reshape(-1,1)\n",
    "petal_area_pred = petal_area_log_mod.predict(area_of_petal_test_rs)"
   ]
  },
  {
   "cell_type": "code",
   "execution_count": null,
   "metadata": {
    "collapsed": false
   },
   "outputs": [],
   "source": [
    "metrics.accuracy_score(y_test, petal_area_pred)\n",
    "#Looks like the single variable model generated an accuracy equal to the more\n",
    "#complex model with all 4 original predictors. Let's see how these models stack\n",
    "#up when we use other modeling algorithms like KNN."
   ]
  },
  {
   "cell_type": "code",
   "execution_count": null,
   "metadata": {
    "collapsed": false
   },
   "outputs": [],
   "source": [
    "#We begin our examination of K-Nearest Neighbors by importing and instantiating\n",
    "#the algorithm\n",
    "from sklearn.neighbors import KNeighborsClassifier\n",
    "knn = KNeighborsClassifier()"
   ]
  },
  {
   "cell_type": "code",
   "execution_count": null,
   "metadata": {
    "collapsed": true
   },
   "outputs": [],
   "source": [
    "#Because we are dealing with a small data set and we have to find the optimal\n",
    "#value for k, we use GridSearch to find, using 10 fold cross validation, the\n",
    "#optimal value for k between 1 and 30.\n",
    "from sklearn.grid_search import GridSearchCV\n",
    "k_range = list(range(1,31))\n",
    "param_grid = dict(n_neighbors=k_range)\n",
    "grid = GridSearchCV(knn, param_grid, cv=10, scoring=\"accuracy\")"
   ]
  },
  {
   "cell_type": "code",
   "execution_count": null,
   "metadata": {
    "collapsed": false
   },
   "outputs": [],
   "source": [
    "#first we fit the more complex model with all 4 predictors.\n",
    "grid.fit(X_train, y_train)"
   ]
  },
  {
   "cell_type": "code",
   "execution_count": null,
   "metadata": {
    "collapsed": false
   },
   "outputs": [],
   "source": [
    "print(grid.best_score_)\n",
    "print(grid.best_params_)\n",
    "\n",
    "#It looks like our best prediction came from setting k to 5. This produced a\n",
    "#increased training model accuracy of 97.5%. An improvement on the complex \n",
    "#model we fit with logistic regression."
   ]
  },
  {
   "cell_type": "code",
   "execution_count": null,
   "metadata": {
    "collapsed": false
   },
   "outputs": [],
   "source": [
    "#Now we fit a model on the training data using a value of 5 for k.\n",
    "\n",
    "knn_complex = KNeighborsClassifier(n_neighbors=5)\n",
    "knn_complex.fit(X_train, y_train)"
   ]
  },
  {
   "cell_type": "code",
   "execution_count": null,
   "metadata": {
    "collapsed": false
   },
   "outputs": [],
   "source": [
    "knn_complex_preds=knn_complex.predict(X_test)"
   ]
  },
  {
   "cell_type": "code",
   "execution_count": null,
   "metadata": {
    "collapsed": false
   },
   "outputs": [],
   "source": [
    "metrics.accuracy_score(y_test, knn_complex_preds)\n",
    "\n",
    "#The complex KNN model with k set to 5, predicts the species in the test set\n",
    "#with 100% accuracy. Now we try and see if we can replicate this success with\n",
    "#the simpler model using the area of the petals."
   ]
  },
  {
   "cell_type": "code",
   "execution_count": null,
   "metadata": {
    "collapsed": false
   },
   "outputs": [],
   "source": [
    "grid2 = GridSearchCV(knn, param_grid, cv=10, scoring=\"accuracy\")\n",
    "grid2.fit(area_of_petal_train_rs, y_train)"
   ]
  },
  {
   "cell_type": "code",
   "execution_count": null,
   "metadata": {
    "collapsed": false
   },
   "outputs": [],
   "source": [
    "print(grid2.best_score_)\n",
    "print(grid2.best_params_)\n",
    "\n",
    "#Here we see that our simpler model needed 1 neighbor to achieve a high of 96.7%\n",
    "#accuracy with the training data. Let's see how it does on the test set."
   ]
  },
  {
   "cell_type": "code",
   "execution_count": null,
   "metadata": {
    "collapsed": false
   },
   "outputs": [],
   "source": [
    "knn_simple=KNeighborsClassifier(n_neighbors=1)\n",
    "knn_simple.fit(area_of_petal_train_rs, y_train)"
   ]
  },
  {
   "cell_type": "code",
   "execution_count": null,
   "metadata": {
    "collapsed": true
   },
   "outputs": [],
   "source": [
    "knn_simple_preds = knn_simple.predict(area_of_petal_test_rs)"
   ]
  },
  {
   "cell_type": "code",
   "execution_count": null,
   "metadata": {
    "collapsed": false
   },
   "outputs": [],
   "source": [
    "metrics.accuracy_score(y_test, knn_simple_preds)\n",
    "#It appears that the KNN loses some accuracy from a single variable in that its\n",
    "#performance is not as successful in accuracy as the more complex model. "
   ]
  },
  {
   "cell_type": "markdown",
   "metadata": {},
   "source": [
    "In this short exercise, we created a couple of new features (petal area and sepal\n",
    "area) from the product of our original variables. A subsequent visualization of the\n",
    "new features suggested that petal area on its own could accurately predict the\n",
    "type of species we were dealing with. To test this, we ran a couple of algorithms,\n",
    "logistic regression and KNN. The simpler model of Petal Area was tested against a\n",
    "more complex model featuring the original variables. While the more complex model\n",
    "returned better accuracy in the KNN model, we still succeeded in doing quite\n",
    "well with the simpler model. "
   ]
  }
 ],
 "metadata": {
  "hide_input": false,
  "kernelspec": {
   "display_name": "Python 3",
   "language": "python",
   "name": "python3"
  },
  "language_info": {
   "codemirror_mode": {
    "name": "ipython",
    "version": 3
   },
   "file_extension": ".py",
   "mimetype": "text/x-python",
   "name": "python",
   "nbconvert_exporter": "python",
   "pygments_lexer": "ipython3",
   "version": "3.5.0"
  },
  "latex_envs": {
   "bibliofile": "biblio.bib",
   "cite_by": "apalike",
   "current_citInitial": 1,
   "eqLabelWithNumbers": true,
   "eqNumInitial": 0
  },
  "toc": {
   "toc_cell": false,
   "toc_number_sections": true,
   "toc_threshold": 4,
   "toc_window_display": false
  }
 },
 "nbformat": 4,
 "nbformat_minor": 0
}
