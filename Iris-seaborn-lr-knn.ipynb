{
 "cells": [
  {
   "cell_type": "code",
   "execution_count": 2,
   "metadata": {
    "collapsed": true
   },
   "outputs": [],
   "source": [
    "import numpy as np\n",
    "import pandas as pd\n",
    "import matplotlib.pyplot as plt\n",
    "%matplotlib inline"
   ]
  },
  {
   "cell_type": "code",
   "execution_count": 41,
   "metadata": {
    "collapsed": false
   },
   "outputs": [],
   "source": [
    "iris = pd.read_csv('1.csv')\n",
    "iris.drop('Форма края', axis=1, inplace=True)\n",
    "iris.drop('form2', axis=1, inplace=True)\n",
    "iris.drop('form3', axis=1, inplace=True)\n",
    "iris.drop('steb', axis=1, inplace=True)\n",
    "iris.drop('zhil', axis=1, inplace=True)"
   ]
  },
  {
   "cell_type": "code",
   "execution_count": 42,
   "metadata": {
    "collapsed": false
   },
   "outputs": [
    {
     "data": {
      "text/html": [
       "<div>\n",
       "<table border=\"1\" class=\"dataframe\">\n",
       "  <thead>\n",
       "    <tr style=\"text-align: right;\">\n",
       "      <th></th>\n",
       "      <th>Длина листовой пластинки, мм</th>\n",
       "      <th>Ширина листовой пластинки, мм</th>\n",
       "      <th>Длина черешка, мм</th>\n",
       "      <th>Type</th>\n",
       "    </tr>\n",
       "  </thead>\n",
       "  <tbody>\n",
       "    <tr>\n",
       "      <th>0</th>\n",
       "      <td>44</td>\n",
       "      <td>71</td>\n",
       "      <td>120</td>\n",
       "      <td>viola</td>\n",
       "    </tr>\n",
       "    <tr>\n",
       "      <th>1</th>\n",
       "      <td>42</td>\n",
       "      <td>73</td>\n",
       "      <td>128</td>\n",
       "      <td>viola</td>\n",
       "    </tr>\n",
       "    <tr>\n",
       "      <th>2</th>\n",
       "      <td>42</td>\n",
       "      <td>71</td>\n",
       "      <td>109</td>\n",
       "      <td>viola</td>\n",
       "    </tr>\n",
       "    <tr>\n",
       "      <th>3</th>\n",
       "      <td>36</td>\n",
       "      <td>59</td>\n",
       "      <td>78</td>\n",
       "      <td>viola</td>\n",
       "    </tr>\n",
       "    <tr>\n",
       "      <th>4</th>\n",
       "      <td>41</td>\n",
       "      <td>76</td>\n",
       "      <td>45</td>\n",
       "      <td>viola</td>\n",
       "    </tr>\n",
       "  </tbody>\n",
       "</table>\n",
       "</div>"
      ],
      "text/plain": [
       "   Длина листовой пластинки, мм  Ширина листовой пластинки, мм  \\\n",
       "0                            44                             71   \n",
       "1                            42                             73   \n",
       "2                            42                             71   \n",
       "3                            36                             59   \n",
       "4                            41                             76   \n",
       "\n",
       "   Длина черешка, мм   Type  \n",
       "0                120  viola  \n",
       "1                128  viola  \n",
       "2                109  viola  \n",
       "3                 78  viola  \n",
       "4                 45  viola  "
      ]
     },
     "execution_count": 42,
     "metadata": {},
     "output_type": "execute_result"
    }
   ],
   "source": [
    "iris.head()\n",
    "#Первые 5 строк набора данных Iris"
   ]
  },
  {
   "cell_type": "code",
   "execution_count": 43,
   "metadata": {
    "collapsed": false
   },
   "outputs": [
    {
     "data": {
      "text/plain": [
       "(153, 4)"
      ]
     },
     "execution_count": 43,
     "metadata": {},
     "output_type": "execute_result"
    }
   ],
   "source": [
    "iris.shape\n",
    "#В этом наборе данных 150 примеров и 6 колонок"
   ]
  },
  {
   "cell_type": "code",
   "execution_count": 44,
   "metadata": {
    "collapsed": false
   },
   "outputs": [
    {
     "name": "stdout",
     "output_type": "stream",
     "text": [
      "<class 'pandas.core.frame.DataFrame'>\n",
      "Int64Index: 153 entries, 0 to 152\n",
      "Data columns (total 4 columns):\n",
      "Длина листовой пластинки, мм     153 non-null int64\n",
      "Ширина листовой пластинки, мм    153 non-null int64\n",
      "Длина черешка, мм                153 non-null int64\n",
      "Type                             153 non-null object\n",
      "dtypes: int64(3), object(1)\n",
      "memory usage: 6.0+ KB\n"
     ]
    }
   ],
   "source": [
    "iris.info()\n",
    "# Для каждего примера есть все значения фитч"
   ]
  },
  {
   "cell_type": "code",
   "execution_count": 47,
   "metadata": {
    "collapsed": false
   },
   "outputs": [
    {
     "data": {
      "text/html": [
       "<div>\n",
       "<table border=\"1\" class=\"dataframe\">\n",
       "  <thead>\n",
       "    <tr style=\"text-align: right;\">\n",
       "      <th></th>\n",
       "      <th>Длина листовой пластинки, мм</th>\n",
       "      <th>Ширина листовой пластинки, мм</th>\n",
       "      <th>Длина черешка, мм</th>\n",
       "    </tr>\n",
       "  </thead>\n",
       "  <tbody>\n",
       "    <tr>\n",
       "      <th>count</th>\n",
       "      <td>25.000000</td>\n",
       "      <td>25.000000</td>\n",
       "      <td>25.000000</td>\n",
       "    </tr>\n",
       "    <tr>\n",
       "      <th>mean</th>\n",
       "      <td>37.280000</td>\n",
       "      <td>61.080000</td>\n",
       "      <td>107.200000</td>\n",
       "    </tr>\n",
       "    <tr>\n",
       "      <th>std</th>\n",
       "      <td>9.829886</td>\n",
       "      <td>14.256344</td>\n",
       "      <td>23.421856</td>\n",
       "    </tr>\n",
       "    <tr>\n",
       "      <th>min</th>\n",
       "      <td>19.000000</td>\n",
       "      <td>33.000000</td>\n",
       "      <td>45.000000</td>\n",
       "    </tr>\n",
       "    <tr>\n",
       "      <th>25%</th>\n",
       "      <td>32.000000</td>\n",
       "      <td>49.000000</td>\n",
       "      <td>95.000000</td>\n",
       "    </tr>\n",
       "    <tr>\n",
       "      <th>50%</th>\n",
       "      <td>36.000000</td>\n",
       "      <td>60.000000</td>\n",
       "      <td>109.000000</td>\n",
       "    </tr>\n",
       "    <tr>\n",
       "      <th>75%</th>\n",
       "      <td>43.000000</td>\n",
       "      <td>71.000000</td>\n",
       "      <td>120.000000</td>\n",
       "    </tr>\n",
       "    <tr>\n",
       "      <th>max</th>\n",
       "      <td>61.000000</td>\n",
       "      <td>84.000000</td>\n",
       "      <td>152.000000</td>\n",
       "    </tr>\n",
       "  </tbody>\n",
       "</table>\n",
       "</div>"
      ],
      "text/plain": [
       "       Длина листовой пластинки, мм  Ширина листовой пластинки, мм  \\\n",
       "count                     25.000000                      25.000000   \n",
       "mean                      37.280000                      61.080000   \n",
       "std                        9.829886                      14.256344   \n",
       "min                       19.000000                      33.000000   \n",
       "25%                       32.000000                      49.000000   \n",
       "50%                       36.000000                      60.000000   \n",
       "75%                       43.000000                      71.000000   \n",
       "max                       61.000000                      84.000000   \n",
       "\n",
       "       Длина черешка, мм  \n",
       "count          25.000000  \n",
       "mean          107.200000  \n",
       "std            23.421856  \n",
       "min            45.000000  \n",
       "25%            95.000000  \n",
       "50%           109.000000  \n",
       "75%           120.000000  \n",
       "max           152.000000  "
      ]
     },
     "execution_count": 47,
     "metadata": {},
     "output_type": "execute_result"
    }
   ],
   "source": [
    "iris[iris['Type'] == 'viola'].describe()\n",
    "# Средние значения для определенного класса"
   ]
  },
  {
   "cell_type": "code",
   "execution_count": 53,
   "metadata": {
    "collapsed": false
   },
   "outputs": [
    {
     "name": "stderr",
     "output_type": "stream",
     "text": [
      "/usr/local/lib/python3.5/site-packages/matplotlib/__init__.py:892: UserWarning: axes.color_cycle is deprecated and replaced with axes.prop_cycle; please use the latter.\n",
      "  warnings.warn(self.msg_depr % (key, alt_key))\n"
     ]
    },
    {
     "data": {
      "image/png": "[encoded data removed]",
      "text/plain": [
       "<matplotlib.figure.Figure at 0x11a89fe10>"
      ]
     },
     "metadata": {},
     "output_type": "display_data"
    }
   ],
   "source": [
    "import seaborn as sns\n",
    "p = sns.PairGrid(data=iris.ix[:, 0:], hue=\"Type\", diag_sharey=False, size=2)\n",
    "p.map_upper(plt.scatter)\n",
    "p.map_lower(sns.kdeplot)\n",
    "p.map_diag(plt.hist)\n",
    "p = p.add_legend()\n",
    "\n",
    "# Библиотека поверх matplotlib позволяет в пару строчек отобразить наши данных во всех размерностях\n",
    "# В качестве цвета исопльзуется класс"
   ]
  },
  {
   "cell_type": "markdown",
   "metadata": {},
   "source": [
    "У нас есть ширина и высота для Чашелистика (Sepal) и Лепестка (Petal).  \n",
    "Если мы умножим ширины на высоты мы получим площадь в кв. см.   \n",
    "Поможет ли нам это?"
   ]
  },
  {
   "cell_type": "code",
   "execution_count": null,
   "metadata": {
    "collapsed": true
   },
   "outputs": [],
   "source": [
    "iris['Sepal_Area'] = iris['SepalLengthCm'] * iris['SepalWidthCm']\n",
    "iris['Petal_Area'] = iris['PetalLengthCm'] * iris['PetalWidthCm']"
   ]
  },
  {
   "cell_type": "code",
   "execution_count": null,
   "metadata": {
    "collapsed": false
   },
   "outputs": [],
   "source": [
    "sns.lmplot('Sepal_Area', 'Petal_Area', hue='Species', fit_reg=False, data=iris, size=5)"
   ]
  },
  {
   "cell_type": "markdown",
   "metadata": {},
   "source": [
    "As we can see in the scatterplot of sepal and petal areas, the 'virginica' species tends to\n",
    "have the largest petal area and the 'setosa' species tends to have the lowest petal area. All \n",
    "three species, for the most, part have similar sizes in terms of sepal area. It is clear\n",
    "that the petal area is the defining characteristic when trying to discern the different species\n",
    "of iris.\n",
    "\n",
    "Taking the petal_area as THE defining characteristics a few steps forward, I will test \n",
    "whether I can build a predictive model with just one predictor, petal_area, and see how \n",
    "that compares with a model that uses the original four predictors. \n",
    "\n",
    "To set this classification problem up, I will first split the data into training and test sets. \n",
    "Next, I will train a model on the training data. Then, I will see how well that trained\n",
    "model does on the test data. Finally, I will present accuracy scores to show how my simpler\n",
    "model does against a model that uses all the original predictors.\n"
   ]
  },
  {
   "cell_type": "code",
   "execution_count": null,
   "metadata": {
    "collapsed": false
   },
   "outputs": [],
   "source": [
    "#Create a 80/20 split of the data between training and test sets.\n",
    "from sklearn.cross_validation import train_test_split\n",
    "iris_train, iris_test = train_test_split(iris, train_size=0.8)"
   ]
  },
  {
   "cell_type": "code",
   "execution_count": null,
   "metadata": {
    "collapsed": false
   },
   "outputs": [],
   "source": [
    "X_train = iris_train.ix[:, 1:5]\n",
    "y_train = iris_train.ix[:, 5]\n",
    "X_test = iris_test.ix[:, 1:5]\n",
    "y_test = iris_test.ix[:, 5]"
   ]
  },
  {
   "cell_type": "markdown",
   "metadata": {},
   "source": [
    "![alt text](LogReg_1.png \"Title\")"
   ]
  },
  {
   "cell_type": "markdown",
   "metadata": {},
   "source": [
    "![alt text](LogisticRegressionWindowLogisticFitChart6.png \"Title\")"
   ]
  },
  {
   "cell_type": "code",
   "execution_count": null,
   "metadata": {
    "collapsed": false
   },
   "outputs": [],
   "source": [
    "#Set up, instantiate and fit model on training set.\n",
    "from sklearn.linear_model import LogisticRegression\n",
    "log_mod = LogisticRegression(random_state=1234)\n",
    "log_mod.fit(X_train, y_train)\n"
   ]
  },
  {
   "cell_type": "code",
   "execution_count": null,
   "metadata": {
    "collapsed": true
   },
   "outputs": [],
   "source": [
    "#Predict on X_test model predictors\n",
    "y_pred = log_mod.predict(X_test)"
   ]
  },
  {
   "cell_type": "code",
   "execution_count": null,
   "metadata": {
    "collapsed": false
   },
   "outputs": [],
   "source": [
    "from sklearn import metrics\n",
    "metrics.accuracy_score(y_test, y_pred)\n",
    "\n",
    "#We get an accuracy of about 96.7% on a simple log model using our original\n",
    "#predictors. Let's try the same using my created area predictor for petal area."
   ]
  },
  {
   "cell_type": "code",
   "execution_count": null,
   "metadata": {
    "collapsed": false
   },
   "outputs": [],
   "source": [
    "area_of_petal_train = iris_train.ix[:, -1]\n",
    "area_of_petal_test = iris_test.ix[:, -1]"
   ]
  },
  {
   "cell_type": "code",
   "execution_count": null,
   "metadata": {
    "collapsed": false
   },
   "outputs": [],
   "source": [
    "area_of_petal_train_rs = area_of_petal_train.reshape(-1,1)\n",
    "petal_area_log_mod = LogisticRegression(random_state=1234)\n",
    "petal_area_log_mod.fit(area_of_petal_train_rs, y_train)"
   ]
  },
  {
   "cell_type": "code",
   "execution_count": null,
   "metadata": {
    "collapsed": true
   },
   "outputs": [],
   "source": [
    "area_of_petal_test_rs = area_of_petal_test.reshape(-1,1)\n",
    "petal_area_pred = petal_area_log_mod.predict(area_of_petal_test_rs)"
   ]
  },
  {
   "cell_type": "code",
   "execution_count": null,
   "metadata": {
    "collapsed": false
   },
   "outputs": [],
   "source": [
    "metrics.accuracy_score(y_test, petal_area_pred)\n",
    "#Looks like the single variable model generated an accuracy equal to the more\n",
    "#complex model with all 4 original predictors. Let's see how these models stack\n",
    "#up when we use other modeling algorithms like KNN."
   ]
  },
  {
   "cell_type": "code",
   "execution_count": null,
   "metadata": {
    "collapsed": false
   },
   "outputs": [],
   "source": [
    "#We begin our examination of K-Nearest Neighbors by importing and instantiating\n",
    "#the algorithm\n",
    "from sklearn.neighbors import KNeighborsClassifier\n",
    "knn = KNeighborsClassifier()"
   ]
  },
  {
   "cell_type": "code",
   "execution_count": null,
   "metadata": {
    "collapsed": true
   },
   "outputs": [],
   "source": [
    "#Because we are dealing with a small data set and we have to find the optimal\n",
    "#value for k, we use GridSearch to find, using 10 fold cross validation, the\n",
    "#optimal value for k between 1 and 30.\n",
    "from sklearn.grid_search import GridSearchCV\n",
    "k_range = list(range(1,31))\n",
    "param_grid = dict(n_neighbors=k_range)\n",
    "grid = GridSearchCV(knn, param_grid, cv=10, scoring=\"accuracy\")"
   ]
  },
  {
   "cell_type": "code",
   "execution_count": null,
   "metadata": {
    "collapsed": false
   },
   "outputs": [],
   "source": [
    "#first we fit the more complex model with all 4 predictors.\n",
    "grid.fit(X_train, y_train)"
   ]
  },
  {
   "cell_type": "code",
   "execution_count": null,
   "metadata": {
    "collapsed": false
   },
   "outputs": [],
   "source": [
    "print(grid.best_score_)\n",
    "print(grid.best_params_)\n",
    "\n",
    "#It looks like our best prediction came from setting k to 5. This produced a\n",
    "#increased training model accuracy of 97.5%. An improvement on the complex \n",
    "#model we fit with logistic regression."
   ]
  },
  {
   "cell_type": "code",
   "execution_count": null,
   "metadata": {
    "collapsed": false
   },
   "outputs": [],
   "source": [
    "#Now we fit a model on the training data using a value of 5 for k.\n",
    "\n",
    "knn_complex = KNeighborsClassifier(n_neighbors=5)\n",
    "knn_complex.fit(X_train, y_train)"
   ]
  },
  {
   "cell_type": "code",
   "execution_count": null,
   "metadata": {
    "collapsed": false
   },
   "outputs": [],
   "source": [
    "knn_complex_preds=knn_complex.predict(X_test)"
   ]
  },
  {
   "cell_type": "code",
   "execution_count": null,
   "metadata": {
    "collapsed": false
   },
   "outputs": [],
   "source": [
    "metrics.accuracy_score(y_test, knn_complex_preds)\n",
    "\n",
    "#The complex KNN model with k set to 5, predicts the species in the test set\n",
    "#with 100% accuracy. Now we try and see if we can replicate this success with\n",
    "#the simpler model using the area of the petals."
   ]
  },
  {
   "cell_type": "code",
   "execution_count": null,
   "metadata": {
    "collapsed": false
   },
   "outputs": [],
   "source": [
    "grid2 = GridSearchCV(knn, param_grid, cv=10, scoring=\"accuracy\")\n",
    "grid2.fit(area_of_petal_train_rs, y_train)"
   ]
  },
  {
   "cell_type": "code",
   "execution_count": null,
   "metadata": {
    "collapsed": false
   },
   "outputs": [],
   "source": [
    "print(grid2.best_score_)\n",
    "print(grid2.best_params_)\n",
    "\n",
    "#Here we see that our simpler model needed 1 neighbor to achieve a high of 96.7%\n",
    "#accuracy with the training data. Let's see how it does on the test set."
   ]
  },
  {
   "cell_type": "code",
   "execution_count": null,
   "metadata": {
    "collapsed": false
   },
   "outputs": [],
   "source": [
    "knn_simple=KNeighborsClassifier(n_neighbors=1)\n",
    "knn_simple.fit(area_of_petal_train_rs, y_train)"
   ]
  },
  {
   "cell_type": "code",
   "execution_count": null,
   "metadata": {
    "collapsed": true
   },
   "outputs": [],
   "source": [
    "knn_simple_preds = knn_simple.predict(area_of_petal_test_rs)"
   ]
  },
  {
   "cell_type": "code",
   "execution_count": null,
   "metadata": {
    "collapsed": false
   },
   "outputs": [],
   "source": [
    "metrics.accuracy_score(y_test, knn_simple_preds)\n",
    "#It appears that the KNN loses some accuracy from a single variable in that its\n",
    "#performance is not as successful in accuracy as the more complex model. "
   ]
  },
  {
   "cell_type": "markdown",
   "metadata": {},
   "source": [
    "In this short exercise, we created a couple of new features (petal area and sepal\n",
    "area) from the product of our original variables. A subsequent visualization of the\n",
    "new features suggested that petal area on its own could accurately predict the\n",
    "type of species we were dealing with. To test this, we ran a couple of algorithms,\n",
    "logistic regression and KNN. The simpler model of Petal Area was tested against a\n",
    "more complex model featuring the original variables. While the more complex model\n",
    "returned better accuracy in the KNN model, we still succeeded in doing quite\n",
    "well with the simpler model. "
   ]
  }
 ],
 "metadata": {
  "hide_input": false,
  "kernelspec": {
   "display_name": "Python 3",
   "language": "python",
   "name": "python3"
  },
  "language_info": {
   "codemirror_mode": {
    "name": "ipython",
    "version": 3
   },
   "file_extension": ".py",
   "mimetype": "text/x-python",
   "name": "python",
   "nbconvert_exporter": "python",
   "pygments_lexer": "ipython3",
   "version": "3.5.0"
  },
  "latex_envs": {
   "bibliofile": "biblio.bib",
   "cite_by": "apalike",
   "current_citInitial": 1,
   "eqLabelWithNumbers": true,
   "eqNumInitial": 0
  },
  "toc": {
   "toc_cell": false,
   "toc_number_sections": true,
   "toc_threshold": 4,
   "toc_window_display": false
  }
 },
 "nbformat": 4,
 "nbformat_minor": 0
}
